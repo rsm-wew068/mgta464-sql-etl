{
 "cells": [
  {
   "cell_type": "code",
   "execution_count": 1,
   "metadata": {},
   "outputs": [],
   "source": [
    "import snowflake.connector\n",
    "\n",
    "conn = snowflake.connector.connect(\n",
    "    user='yangqihuang',\n",
    "    password='Intelligent106$',\n",
    "    account='dorcpgt-lbb34148'\n",
    "    )"
   ]
  },
  {
   "cell_type": "code",
   "execution_count": 2,
   "metadata": {},
   "outputs": [],
   "source": [
    "cs = conn.cursor()"
   ]
  },
  {
   "cell_type": "code",
   "execution_count": 116,
   "metadata": {},
   "outputs": [],
   "source": [
    "#Q1\n",
    "import os\n",
    "import glob\n",
    "\n",
    "#combine all 41 files into one file\n",
    "input = '/home/jovyan/sql_etl_project/Monthly PO Data'\n",
    "output = '/home/jovyan/sql_etl_project/combined_purchase_data.csv'\n",
    "\n",
    "csv_files = glob.glob(os.path.join(input, '*.csv'))\n",
    "\n",
    "with open(output, 'w') as outfile:\n",
    "    for i, file in enumerate(csv_files):\n",
    "        with open(file, 'r') as infile:\n",
    "            if i == 0:\n",
    "                outfile.write(infile.read())\n",
    "            else:\n",
    "                infile.readline()\n",
    "                outfile.write(infile.read())\n"
   ]
  },
  {
   "cell_type": "code",
   "execution_count": null,
   "metadata": {},
   "outputs": [],
   "source": [
    "#create project database\n",
    "cs.execute(\"CREATE DATABASE IF NOT EXISTS projectdb\")\n",
    "#create project database's schema\n",
    "cs.execute(\"CREATE SCHEMA IF NOT EXISTS projectschema\")"
   ]
  },
  {
   "cell_type": "code",
   "execution_count": 4,
   "metadata": {},
   "outputs": [
    {
     "data": {
      "text/plain": [
       "<snowflake.connector.cursor.SnowflakeCursor at 0x7f679b346350>"
      ]
     },
     "execution_count": 4,
     "metadata": {},
     "output_type": "execute_result"
    }
   ],
   "source": [
    "#use database and schema\n",
    "cs.execute(\"USE DATABASE projectdb\")\n",
    "cs.execute(\"USE SCHEMA projectschema\")"
   ]
  },
  {
   "cell_type": "code",
   "execution_count": 117,
   "metadata": {},
   "outputs": [
    {
     "data": {
      "text/plain": [
       "<snowflake.connector.cursor.SnowflakeCursor at 0x7f0689bc0f10>"
      ]
     },
     "execution_count": 117,
     "metadata": {},
     "output_type": "execute_result"
    }
   ],
   "source": [
    "#create specific stage for purchase data\n",
    "cs.execute(\"CREATE STAGE poh_internal_stage\")"
   ]
  },
  {
   "cell_type": "code",
   "execution_count": 118,
   "metadata": {},
   "outputs": [
    {
     "data": {
      "text/plain": [
       "<snowflake.connector.cursor.SnowflakeCursor at 0x7f0689bc0f10>"
      ]
     },
     "execution_count": 118,
     "metadata": {},
     "output_type": "execute_result"
    }
   ],
   "source": [
    "#load the combined csv file into the specific stage\n",
    "cs.execute(\"PUT file:///home/jovyan/sql_etl_project/combined_purchase_data.csv @poh_internal_stage\")"
   ]
  },
  {
   "cell_type": "code",
   "execution_count": 119,
   "metadata": {},
   "outputs": [
    {
     "data": {
      "text/plain": [
       "<snowflake.connector.cursor.SnowflakeCursor at 0x7f0689bc0f10>"
      ]
     },
     "execution_count": 119,
     "metadata": {},
     "output_type": "execute_result"
    }
   ],
   "source": [
    "#create table for csv file to copy into\n",
    "sql11 = '''\n",
    "CREATE OR REPLACE TABLE poh_raw (\n",
    "purchaseorderid VARCHAR, \n",
    "supplierid VARCHAR, \n",
    "orderdate VARCHAR, \n",
    "deliverymethodid VARCHAR, \n",
    "contactpersonid VARCHAR, \n",
    "expecteddeliverydate VARCHAR, \n",
    "supplierreference VARCHAR, \n",
    "isorderfinalized VARCHAR, \n",
    "comments VARCHAR, \n",
    "internalcomments VARCHAR, \n",
    "lasteditedby VARCHAR, \n",
    "lasteditedwhen VARCHAR, \n",
    "purchaseorderlineid VARCHAR, \n",
    "stockitemid VARCHAR, \n",
    "orderedouters VARCHAR, \n",
    "description VARCHAR, \n",
    "receivedouters VARCHAR, \n",
    "packagetypeid VARCHAR, \n",
    "expectedunitpriceperouter VARCHAR, \n",
    "lastreceiptdate VARCHAR, \n",
    "isorderlinefinalized VARCHAR, \n",
    "right_lasteditedby VARCHAR, \n",
    "right_lasteditedwhen VARCHAR\n",
    ")\n",
    "'''\n",
    "cs.execute(sql11)"
   ]
  },
  {
   "cell_type": "code",
   "execution_count": 120,
   "metadata": {},
   "outputs": [
    {
     "data": {
      "text/plain": [
       "<snowflake.connector.cursor.SnowflakeCursor at 0x7f0689bc0f10>"
      ]
     },
     "execution_count": 120,
     "metadata": {},
     "output_type": "execute_result"
    }
   ],
   "source": [
    "#copy into and set format\n",
    "cs.execute('''CREATE OR REPLACE FILE FORMAT csv_format TYPE = 'CSV' FIELD_OPTIONALLY_ENCLOSED_BY = '\"' FIELD_DELIMITER = ',' PARSE_HEADER = FALSE, SKIP_HEADER = 1''')\n",
    "cs.execute('''COPY INTO poh_raw from @poh_internal_stage FILE_FORMAT = csv_format''')"
   ]
  },
  {
   "cell_type": "code",
   "execution_count": 121,
   "metadata": {},
   "outputs": [
    {
     "data": {
      "text/plain": [
       "<snowflake.connector.cursor.SnowflakeCursor at 0x7f0689bc0f10>"
      ]
     },
     "execution_count": 121,
     "metadata": {},
     "output_type": "execute_result"
    }
   ],
   "source": [
    "#delete null columns\n",
    "cs.execute(\"ALTER TABLE poh_raw DROP COLUMN comments, internalcomments\")"
   ]
  },
  {
   "cell_type": "code",
   "execution_count": 122,
   "metadata": {},
   "outputs": [
    {
     "data": {
      "text/plain": [
       "<snowflake.connector.cursor.SnowflakeCursor at 0x7f0689bc0f10>"
      ]
     },
     "execution_count": 122,
     "metadata": {},
     "output_type": "execute_result"
    }
   ],
   "source": [
    "#convert each column's datatype\n",
    "sql12 = '''\n",
    "ALTER TABLE poh_raw ADD COLUMN \n",
    "purchaseorderid_int INTEGER, \n",
    "supplierid_int INTEGER, \n",
    "orderdate_date DATE, \n",
    "deliverymethodid_int INTEGER, \n",
    "contactpersonid_int INTEGER, \n",
    "expecteddeliverydate_date DATE, \n",
    "isorderfinalized_bol BOOLEAN, \n",
    "lasteditedby_int INTEGER, \n",
    "purchaseorderlineid_int INTEGER, \n",
    "stockitemid_int INTEGER, \n",
    "orderedouters_ft FLOAT, \n",
    "receivedouters_ft FLOAT, \n",
    "packagetypeid_int INTEGER, \n",
    "expectedunitpriceperouter_ft FLOAT, \n",
    "lastreceiptdate_date DATE, \n",
    "isorderlinefinalized_bol BOOLEAN, \n",
    "right_lasteditedby_int INTEGER\n",
    "'''\n",
    "cs.execute(sql12)\n"
   ]
  },
  {
   "cell_type": "code",
   "execution_count": 123,
   "metadata": {},
   "outputs": [
    {
     "data": {
      "text/plain": [
       "<snowflake.connector.cursor.SnowflakeCursor at 0x7f0689bc0f10>"
      ]
     },
     "execution_count": 123,
     "metadata": {},
     "output_type": "execute_result"
    }
   ],
   "source": [
    "sql13 = '''\n",
    "UPDATE poh_raw SET \n",
    "purchaseorderid_int = CAST(purchaseorderid AS INTEGER), \n",
    "supplierid_int = CAST(supplierid AS INTEGER), \n",
    "orderdate_date = TRY_TO_DATE(orderdate), \n",
    "deliverymethodid_int = CAST(deliverymethodid AS INTEGER), \n",
    "contactpersonid_int = CAST(contactpersonid AS INTEGER), \n",
    "expecteddeliverydate_date = TRY_TO_DATE(expecteddeliverydate), \n",
    "isorderfinalized_bol = CAST(isorderfinalized AS BOOLEAN), \n",
    "lasteditedby_int = CAST(lasteditedby AS INTEGER), \n",
    "purchaseorderlineid_int = CAST(purchaseorderlineid AS INTEGER), \n",
    "stockitemid_int = CAST(stockitemid AS INTEGER), \n",
    "orderedouters_ft = CAST(orderedouters AS FLOAT), \n",
    "receivedouters_ft = CAST(receivedouters AS FLOAT), \n",
    "packagetypeid_int = CAST(packagetypeid AS INTEGER), \n",
    "expectedunitpriceperouter_ft = CAST(expectedunitpriceperouter AS FLOAT), \n",
    "lastreceiptdate_date = TRY_TO_DATE(lastreceiptdate), \n",
    "isorderlinefinalized_bol = CAST(isorderlinefinalized AS BOOLEAN), \n",
    "right_lasteditedby_int = CAST(right_lasteditedby AS INTEGER)\n",
    "'''\n",
    "cs.execute(sql13)"
   ]
  },
  {
   "cell_type": "code",
   "execution_count": 124,
   "metadata": {},
   "outputs": [
    {
     "data": {
      "text/plain": [
       "<snowflake.connector.cursor.SnowflakeCursor at 0x7f0689bc0f10>"
      ]
     },
     "execution_count": 124,
     "metadata": {},
     "output_type": "execute_result"
    }
   ],
   "source": [
    "#delete original columns\n",
    "sql14 = '''\n",
    "ALTER TABLE poh_raw DROP COLUMN \n",
    "purchaseorderid, \n",
    "supplierid, \n",
    "orderdate, \n",
    "deliverymethodid, \n",
    "contactpersonid, \n",
    "expecteddeliverydate, \n",
    "isorderfinalized, \n",
    "lasteditedby, \n",
    "purchaseorderlineid, \n",
    "stockitemid, \n",
    "orderedouters, \n",
    "receivedouters, \n",
    "packagetypeid, \n",
    "expectedunitpriceperouter, \n",
    "lastreceiptdate, \n",
    "isorderlinefinalized, \n",
    "right_lasteditedby\n",
    "'''\n",
    "cs.execute(sql14)"
   ]
  },
  {
   "cell_type": "code",
   "execution_count": 125,
   "metadata": {},
   "outputs": [
    {
     "data": {
      "text/plain": [
       "<snowflake.connector.cursor.SnowflakeCursor at 0x7f0689bc0f10>"
      ]
     },
     "execution_count": 125,
     "metadata": {},
     "output_type": "execute_result"
    }
   ],
   "source": [
    "#rename the new columns into original names\n",
    "cs.execute(\"ALTER TABLE poh_raw RENAME COLUMN purchaseorderid_int TO purchaseorderid\")\n",
    "cs.execute(\"ALTER TABLE poh_raw RENAME COLUMN supplierid_int TO supplierid\")\n",
    "cs.execute(\"ALTER TABLE poh_raw RENAME COLUMN orderdate_date TO orderdate\")\n",
    "cs.execute(\"ALTER TABLE poh_raw RENAME COLUMN deliverymethodid_int TO deliverymethodid\")\n",
    "cs.execute(\"ALTER TABLE poh_raw RENAME COLUMN contactpersonid_int TO contactpersonid\")\n",
    "cs.execute(\"ALTER TABLE poh_raw RENAME COLUMN expecteddeliverydate_date TO expecteddeliverydate\")\n",
    "cs.execute(\"ALTER TABLE poh_raw RENAME COLUMN isorderfinalized_bol TO isorderfinalized\")\n",
    "cs.execute(\"ALTER TABLE poh_raw RENAME COLUMN lasteditedby_int TO lasteditedby\")\n",
    "cs.execute(\"ALTER TABLE poh_raw RENAME COLUMN purchaseorderlineid_int TO purchaseorderlineid\")\n",
    "cs.execute(\"ALTER TABLE poh_raw RENAME COLUMN stockitemid_int TO stockitemid\")\n",
    "cs.execute(\"ALTER TABLE poh_raw RENAME COLUMN orderedouters_ft TO orderedouters\")\n",
    "cs.execute(\"ALTER TABLE poh_raw RENAME COLUMN receivedouters_ft TO receivedouters\")\n",
    "cs.execute(\"ALTER TABLE poh_raw RENAME COLUMN packagetypeid_int TO packagetypeid\")\n",
    "cs.execute(\"ALTER TABLE poh_raw RENAME COLUMN expectedunitpriceperouter_ft TO expectedunitpriceperouter\")\n",
    "cs.execute(\"ALTER TABLE poh_raw RENAME COLUMN lastreceiptdate_date TO lastreceiptdate\")\n",
    "cs.execute(\"ALTER TABLE poh_raw RENAME COLUMN isorderlinefinalized_bol TO isorderlinefinalized\")\n",
    "cs.execute(\"ALTER TABLE poh_raw RENAME COLUMN right_lasteditedby_int TO right_lasteditedby\")"
   ]
  },
  {
   "cell_type": "code",
   "execution_count": null,
   "metadata": {},
   "outputs": [],
   "source": [
    "cs.execute(\"ALTER TABLE poh_raw RENAME TO purchaseorderheader_organized\")"
   ]
  },
  {
   "cell_type": "code",
   "execution_count": 127,
   "metadata": {},
   "outputs": [
    {
     "data": {
      "text/plain": [
       "<snowflake.connector.cursor.SnowflakeCursor at 0x7f0689bc0f10>"
      ]
     },
     "execution_count": 127,
     "metadata": {},
     "output_type": "execute_result"
    }
   ],
   "source": [
    "#Q2\n",
    "sql21 = '''\n",
    "CREATE TABLE purchaseorderheader AS \n",
    "SELECT *, SUM(receivedouters * expectedunitpriceperouter) OVER (PARTITION BY purchaseorderid) AS poamount \n",
    "FROM purchaseorderheader_organized\n",
    "'''\n",
    "cs.execute(sql21)"
   ]
  },
  {
   "cell_type": "code",
   "execution_count": 131,
   "metadata": {},
   "outputs": [
    {
     "data": {
      "text/plain": [
       "<snowflake.connector.cursor.SnowflakeCursor at 0x7f0689bc0f10>"
      ]
     },
     "execution_count": 131,
     "metadata": {},
     "output_type": "execute_result"
    }
   ],
   "source": [
    "#Q3\n",
    "cs.execute(\"CREATE STAGE st_internal_stage\")"
   ]
  },
  {
   "cell_type": "code",
   "execution_count": 132,
   "metadata": {},
   "outputs": [
    {
     "data": {
      "text/plain": [
       "<snowflake.connector.cursor.SnowflakeCursor at 0x7f0689bc0f10>"
      ]
     },
     "execution_count": 132,
     "metadata": {},
     "output_type": "execute_result"
    }
   ],
   "source": [
    "cs.execute(\"PUT file:///home/jovyan/sql_etl_project/Supplier_Transactions_XML.xml @st_internal_stage\")"
   ]
  },
  {
   "cell_type": "code",
   "execution_count": 133,
   "metadata": {},
   "outputs": [
    {
     "data": {
      "text/plain": [
       "<snowflake.connector.cursor.SnowflakeCursor at 0x7f0689bc0f10>"
      ]
     },
     "execution_count": 133,
     "metadata": {},
     "output_type": "execute_result"
    }
   ],
   "source": [
    "#create a staging table and load the xml data\n",
    "cs.execute(\"CREATE OR REPLACE TABLE st_raw_staging (xml_data VARIANT)\")\n",
    "cs.execute(\"COPY INTO st_raw_staging FROM @st_internal_stage FILE_FORMAT = (TYPE = 'XML' STRIP_OUTER_ELEMENT = TRUE)\")"
   ]
  },
  {
   "cell_type": "code",
   "execution_count": 54,
   "metadata": {},
   "outputs": [
    {
     "data": {
      "text/plain": [
       "<snowflake.connector.cursor.SnowflakeCursor at 0x7f0689bc0f10>"
      ]
     },
     "execution_count": 54,
     "metadata": {},
     "output_type": "execute_result"
    }
   ],
   "source": [
    "cs.execute(\"SELECT xml_data FROM st_raw_staging\")"
   ]
  },
  {
   "cell_type": "code",
   "execution_count": 141,
   "metadata": {},
   "outputs": [
    {
     "data": {
      "text/plain": [
       "<snowflake.connector.cursor.SnowflakeCursor at 0x7f0689bc0f10>"
      ]
     },
     "execution_count": 141,
     "metadata": {},
     "output_type": "execute_result"
    }
   ],
   "source": [
    "#create table for final loading\n",
    "sql31 = '''\n",
    "CREATE OR REPLACE TABLE st_raw (\n",
    "suppliertransactionid INTEGER, \n",
    "supplierid INTEGER, \n",
    "transactiontypeid INTEGER, \n",
    "purchaseorderid INTEGER, \n",
    "paymentmethodid INTEGER, \n",
    "supplierinvoicenumber INTEGER, \n",
    "transactiondate DATE, \n",
    "amountexcludingtax FLOAT, \n",
    "taxamount FLOAT, \n",
    "transactionamount FLOAT, \n",
    "outstandingbalance FLOAT, \n",
    "finalizationdate DATE, \n",
    "isfinalized BOOLEAN, \n",
    "lasteditedby INTEGER, \n",
    "lasteditedwhen VARCHAR\n",
    ")\n",
    "'''\n",
    "cs.execute(sql31)"
   ]
  },
  {
   "cell_type": "code",
   "execution_count": 142,
   "metadata": {},
   "outputs": [
    {
     "data": {
      "text/plain": [
       "<snowflake.connector.cursor.SnowflakeCursor at 0x7f0689bc0f10>"
      ]
     },
     "execution_count": 142,
     "metadata": {},
     "output_type": "execute_result"
    }
   ],
   "source": [
    "#insert into the new table\n",
    "sql32 = '''\n",
    "INSERT INTO st_raw (\n",
    "suppliertransactionid, \n",
    "supplierid, \n",
    "transactiontypeid, \n",
    "purchaseorderid, \n",
    "paymentmethodid, \n",
    "supplierinvoicenumber, \n",
    "transactiondate, \n",
    "amountexcludingtax, \n",
    "taxamount, \n",
    "transactionamount, \n",
    "outstandingbalance, \n",
    "finalizationdate, \n",
    "isfinalized, \n",
    "lasteditedby, \n",
    "lasteditedwhen\n",
    ") \n",
    "SELECT \n",
    "XMLGET(xml_data, 'SupplierTransactionID'):\"$\"::INTEGER AS suppliertransactionid, \n",
    "XMLGET(xml_data, 'SupplierID'):\"$\"::INTEGER AS supplierid, \n",
    "XMLGET(xml_data, 'TransactionTypeID'):\"$\"::INTEGER AS transactiontypeid, \n",
    "NULLIF(XMLGET(xml_data, 'PurchaseOrderID'):\"$\", '') AS purchaseorderid, \n",
    "XMLGET(xml_data, 'PaymentMethodID'):\"$\"::INTEGER AS paymentmethodid, \n",
    "NULLIF(XMLGET(xml_data, 'SupplierInvoiceNumber'):\"$\", '') AS supplierinvoicenumber, \n",
    "XMLGET(xml_data, 'TransactionDate'):\"$\"::DATE AS transactiondate, \n",
    "XMLGET(xml_data, 'AmountExcludingTax'):\"$\"::FLOAT AS amountexcludingtax, \n",
    "XMLGET(xml_data, 'TaxAmount'):\"$\"::FLOAT AS taxamount, \n",
    "XMLGET(xml_data, 'TransactionAmount'):\"$\"::FLOAT AS transactionamount, \n",
    "XMLGET(xml_data, 'OutstandingBalance'):\"$\"::FLOAT AS outstandingbalance, \n",
    "NULLIF(XMLGET(xml_data, 'FinalizationDate'):\"$\", '') AS finalizationdate, \n",
    "XMLGET(xml_data, 'IsFinalized'):\"$\"::STRING AS isfinalized, \n",
    "XMLGET(xml_data, 'LastEditedBy'):\"$\"::INTEGER AS lasteditedby, \n",
    "XMLGET(xml_data, 'LastEditedWhen'):\"$\"::STRING AS lasteditedwhen \n",
    "FROM st_raw_staging\n",
    "'''\n",
    "cs.execute(sql32)"
   ]
  },
  {
   "cell_type": "code",
   "execution_count": null,
   "metadata": {},
   "outputs": [],
   "source": [
    "#test null value\n",
    "cs.execute('''INSERT INTO st_raw (finalizationdate) SELECT XMLGET(xml_data, 'FinalizationDate'):\"$\"::DATE FROM st_raw_staging''') "
   ]
  },
  {
   "cell_type": "code",
   "execution_count": 143,
   "metadata": {},
   "outputs": [
    {
     "data": {
      "text/plain": [
       "<snowflake.connector.cursor.SnowflakeCursor at 0x7f0689bc0f10>"
      ]
     },
     "execution_count": 143,
     "metadata": {},
     "output_type": "execute_result"
    }
   ],
   "source": [
    "cs.execute(\"ALTER TABLE st_raw RENAME TO invoice\")"
   ]
  },
  {
   "cell_type": "code",
   "execution_count": 11,
   "metadata": {},
   "outputs": [
    {
     "data": {
      "text/plain": [
       "<snowflake.connector.cursor.SnowflakeCursor at 0x7f679b346350>"
      ]
     },
     "execution_count": 11,
     "metadata": {},
     "output_type": "execute_result"
    }
   ],
   "source": [
    "#Q4 & Q5\n",
    "sql41 = '''\n",
    "CREATE VIEW poamount_specify AS\n",
    "SELECT \n",
    "purchaseorderid, \n",
    "supplierid, \n",
    "SUM(receivedouters * expectedunitpriceperouter) as total\n",
    "FROM purchaseorderheader \n",
    "GROUP BY purchaseorderid, supplierid\n",
    "ORDER BY purchaseorderid, supplierid\n",
    "'''\n",
    "cs.execute(sql41)"
   ]
  },
  {
   "cell_type": "code",
   "execution_count": 13,
   "metadata": {},
   "outputs": [
    {
     "data": {
      "text/plain": [
       "<snowflake.connector.cursor.SnowflakeCursor at 0x7f679b346350>"
      ]
     },
     "execution_count": 13,
     "metadata": {},
     "output_type": "execute_result"
    }
   ],
   "source": [
    "sql51 = '''\n",
    "CREATE VIEW purchase_orders_and_invoices AS \n",
    "SELECT \n",
    "ps.supplierid, \n",
    "ps.purchaseorderid,\n",
    "amountexcludingtax,\n",
    "total as poamount,\n",
    "(amountexcludingtax - total) AS invoiced_vs_quoted, \n",
    "transactiondate \n",
    "FROM poamount_specify ps \n",
    "JOIN invoice i \n",
    "ON ps.supplierid = i.supplierid AND ps.purchaseorderid = i.purchaseorderid\n",
    "ORDER BY ps.supplierid, ps.purchaseorderid\n",
    "'''\n",
    "cs.execute(sql51)"
   ]
  },
  {
   "cell_type": "code",
   "execution_count": 12,
   "metadata": {},
   "outputs": [
    {
     "data": {
      "text/plain": [
       "<snowflake.connector.cursor.SnowflakeCursor at 0x7f679b346350>"
      ]
     },
     "execution_count": 12,
     "metadata": {},
     "output_type": "execute_result"
    }
   ],
   "source": [
    "#需要改的\n",
    "cs.execute(\"DROP VIEW purchase_orders_and_invoices\")"
   ]
  },
  {
   "cell_type": "code",
   "execution_count": 6,
   "metadata": {},
   "outputs": [],
   "source": [
    "#Q6\n",
    "#download the dataset from pgsql database into the local\n",
    "import psycopg2\n",
    "import csv\n",
    "\n",
    "connection = psycopg2.connect(\n",
    "    host = '127.0.0.1',\n",
    "    database = 'WestCoastImporters',\n",
    "    user = 'jovyan',\n",
    "    password = 'postgres',\n",
    "    port = '8765'\n",
    ")\n",
    "\n",
    "cursor = connection.cursor()\n",
    "\n",
    "cursor.execute(\"SELECT * FROM supplier_case\")\n",
    "rows = cursor.fetchall()\n",
    "\n",
    "with open('/home/jovyan/sql_etl_project/supplier_case.csv', 'w') as file:\n",
    "    writer = csv.writer(file)\n",
    "    writer.writerow([i[0] for i in cursor.description])  \n",
    "    writer.writerows(rows)\n",
    "\n",
    "cursor.close()\n",
    "connection.close()\n"
   ]
  },
  {
   "cell_type": "code",
   "execution_count": 55,
   "metadata": {},
   "outputs": [
    {
     "data": {
      "text/plain": [
       "<snowflake.connector.cursor.SnowflakeCursor at 0x7ff2c105f5d0>"
      ]
     },
     "execution_count": 55,
     "metadata": {},
     "output_type": "execute_result"
    }
   ],
   "source": [
    "cs.execute(\"CREATE STAGE sc_internal_stage\")"
   ]
  },
  {
   "cell_type": "code",
   "execution_count": 60,
   "metadata": {},
   "outputs": [
    {
     "data": {
      "text/plain": [
       "<snowflake.connector.cursor.SnowflakeCursor at 0x7ff2c105f5d0>"
      ]
     },
     "execution_count": 60,
     "metadata": {},
     "output_type": "execute_result"
    }
   ],
   "source": [
    "sql61 = '''\n",
    "CREATE OR REPLACE TABLE supplier (\n",
    "supplierid INTEGER, \n",
    "suppliername VARCHAR, \n",
    "suppliercategoryid INTEGER, \n",
    "primarycontactpersonid INTEGER, \n",
    "alternatecontactpersonid INTEGER, \n",
    "deliverymethodid INTEGER, \n",
    "postalcityid STRING, \n",
    "supplierreference VARCHAR, \n",
    "bankaccountname VARCHAR, \n",
    "bankaccountbranch VARCHAR, \n",
    "bankaccountcode INTEGER, \n",
    "bankaccountnumber NUMERIC, \n",
    "bankinternationalcode INTEGER, \n",
    "paymentdays INTEGER, \n",
    "internalcomments VARCHAR, \n",
    "phonenumber VARCHAR, \n",
    "faxnumber VARCHAR, \n",
    "websiteurl VARCHAR, \n",
    "deliveryaddressline1 VARCHAR, \n",
    "deliveryaddressline2 VARCHAR, \n",
    "deliverypostalcode STRING, \n",
    "deliverylocation VARCHAR, \n",
    "postaladdressline1 VARCHAR, \n",
    "postaladdressline2 VARCHAR, \n",
    "postalpostalcode STRING, \n",
    "lasteditedby INTEGER, \n",
    "validfrom VARCHAR, \n",
    "validto VARCHAR\n",
    ")\n",
    "'''\n",
    "cs.execute(dql61)"
   ]
  },
  {
   "cell_type": "code",
   "execution_count": 57,
   "metadata": {},
   "outputs": [
    {
     "data": {
      "text/plain": [
       "<snowflake.connector.cursor.SnowflakeCursor at 0x7ff2c105f5d0>"
      ]
     },
     "execution_count": 57,
     "metadata": {},
     "output_type": "execute_result"
    }
   ],
   "source": [
    "cs.execute(\"PUT file:///home/jovyan/sql_etl_project/supplier_case.csv @sc_internal_stage\")"
   ]
  },
  {
   "cell_type": "code",
   "execution_count": 61,
   "metadata": {},
   "outputs": [
    {
     "data": {
      "text/plain": [
       "<snowflake.connector.cursor.SnowflakeCursor at 0x7ff2c105f5d0>"
      ]
     },
     "execution_count": 61,
     "metadata": {},
     "output_type": "execute_result"
    }
   ],
   "source": [
    "cs.execute('''COPY INTO supplier from @sc_internal_stage FILE_FORMAT = csv_format''')"
   ]
  },
  {
   "cell_type": "code",
   "execution_count": 52,
   "metadata": {},
   "outputs": [
    {
     "data": {
      "text/plain": [
       "<snowflake.connector.cursor.SnowflakeCursor at 0x7ff2c105f5d0>"
      ]
     },
     "execution_count": 52,
     "metadata": {},
     "output_type": "execute_result"
    }
   ],
   "source": [
    "#Q7\n",
    "#load zcta txt file\n",
    "cs.execute(\"CREATE STAGE zcta_internal_stage\")"
   ]
  },
  {
   "cell_type": "code",
   "execution_count": 36,
   "metadata": {},
   "outputs": [
    {
     "data": {
      "text/plain": [
       "<snowflake.connector.cursor.SnowflakeCursor at 0x7ff2c105f5d0>"
      ]
     },
     "execution_count": 36,
     "metadata": {},
     "output_type": "execute_result"
    }
   ],
   "source": [
    "cs.execute(\"CREATE OR REPLACE TABLE zcta (geoid STRING, aland INTEGER, awater INTEGER, aland_sqmi FLOAT, awater_sqmi FLOAT, intptlat FLOAT, intptlong FLOAT)\")"
   ]
  },
  {
   "cell_type": "code",
   "execution_count": 53,
   "metadata": {},
   "outputs": [
    {
     "data": {
      "text/plain": [
       "<snowflake.connector.cursor.SnowflakeCursor at 0x7ff2c105f5d0>"
      ]
     },
     "execution_count": 53,
     "metadata": {},
     "output_type": "execute_result"
    }
   ],
   "source": [
    "cs.execute(\"PUT file:///home/jovyan/sql_etl_project/2021_Gaz_zcta_national.txt @zcta_internal_stage\")"
   ]
  },
  {
   "cell_type": "code",
   "execution_count": 37,
   "metadata": {},
   "outputs": [
    {
     "data": {
      "text/plain": [
       "<snowflake.connector.cursor.SnowflakeCursor at 0x7ff2c105f5d0>"
      ]
     },
     "execution_count": 37,
     "metadata": {},
     "output_type": "execute_result"
    }
   ],
   "source": [
    "cs.execute('''COPY INTO zcta from @zcta_internal_stage FILE_FORMAT = (TYPE = 'CSV' FIELD_DELIMITER = '\\t' SKIP_HEADER = 1)''')"
   ]
  },
  {
   "cell_type": "code",
   "execution_count": 65,
   "metadata": {},
   "outputs": [
    {
     "data": {
      "text/plain": [
       "<snowflake.connector.cursor.SnowflakeCursor at 0x7ff2c105f5d0>"
      ]
     },
     "execution_count": 65,
     "metadata": {},
     "output_type": "execute_result"
    }
   ],
   "source": [
    "#extract the geolocation of each supplier \n",
    "sql71 = '''\n",
    "CREATE VIEW supplier_location AS \n",
    "SELECT b.lat, b.lon, b.geoid \n",
    "FROM (SELECT DISTINCT postalpostalcode as postalcode FROM supplier) a \n",
    "JOIN (SELECT intptlat as lat, intptlong as lon, geoid FROM zcta) b \n",
    "ON a.postalcode = b.geoid\")\n",
    "'''\n",
    "cs.execute(sql71)"
   ]
  },
  {
   "cell_type": "code",
   "execution_count": 28,
   "metadata": {},
   "outputs": [
    {
     "data": {
      "text/plain": [
       "<snowflake.connector.cursor.SnowflakeCursor at 0x7f6b241d9d10>"
      ]
     },
     "execution_count": 28,
     "metadata": {},
     "output_type": "execute_result"
    }
   ],
   "source": [
    "#find the weather station that is closest to suppliers' geolocation\n",
    "sql72 = '''\n",
    "CREATE VIEW find_closest_station AS\n",
    "SELECT b.geoid, a.noaa_weather_station_id, st_distance(st_makepoint(a.longitude, a.latitude), st_makepoint(b.lon, b.lat)) AS distance \n",
    "FROM WEATHER__ENVIRONMENT.CYBERSYN.noaa_weather_station_index a \n",
    "JOIN supplier_location b \n",
    "ON st_distance(st_makepoint(a.longitude, a.latitude), st_makepoint(b.lon, b.lat)) < 50000\n",
    "'''\n",
    "cs.execute(sql72)"
   ]
  },
  {
   "cell_type": "code",
   "execution_count": 23,
   "metadata": {},
   "outputs": [
    {
     "data": {
      "text/plain": [
       "<snowflake.connector.cursor.SnowflakeCursor at 0x7f679b346350>"
      ]
     },
     "execution_count": 23,
     "metadata": {},
     "output_type": "execute_result"
    }
   ],
   "source": [
    "#get the highest temperatures by date measured by the weather stations which have the closest distance to the suppliers' geolocation\n",
    "sql73 = '''\n",
    "CREATE VIEW temp_overview AS\n",
    "SELECT wmt.noaa_weather_station_id, variable_name, date, value AS temperature, unit\n",
    "FROM weather__environment.cybersyn.noaa_weather_metrics_timeseries wmt\n",
    "JOIN\n",
    "(SELECT geoid, noaa_weather_station_id\n",
    "FROM find_closest_station\n",
    "WHERE distance IN (\n",
    "SELECT shortest_distance FROM (\n",
    "SELECT geoid, MIN(distance) AS shortest_distance\n",
    "FROM find_closest_station\n",
    "GROUP BY geoid) a)) b\n",
    "ON wmt.noaa_weather_station_id = b.noaa_weather_station_id\n",
    "WHERE variable_name = 'Maximum Temperature'\n",
    "'''\n",
    "cs.execute(sql73)"
   ]
  },
  {
   "cell_type": "code",
   "execution_count": 52,
   "metadata": {},
   "outputs": [
    {
     "data": {
      "text/plain": [
       "<snowflake.connector.cursor.SnowflakeCursor at 0x7f6b241d9d10>"
      ]
     },
     "execution_count": 52,
     "metadata": {},
     "output_type": "execute_result"
    }
   ],
   "source": [
    "#create view of the suppliers' geolocation and the corresponding weather station ids to be better prepared for join\n",
    "sql74 = '''\n",
    "CREATE VIEW shortest_distance_station AS\n",
    "SELECT geoid, noaa_weather_station_id FROM find_closest_station\n",
    "WHERE noaa_weather_station_id IN (\n",
    "SELECT noaa_weather_station_id FROM find_closest_station WHERE distance IN (SELECT shortest_distance FROM\n",
    "(SELECT geoid, MIN(distance) AS shortest_distance FROM find_closest_station GROUP BY geoid) a))\n",
    "'''\n",
    "cs.execute(sql74)"
   ]
  },
  {
   "cell_type": "code",
   "execution_count": 26,
   "metadata": {},
   "outputs": [
    {
     "data": {
      "text/plain": [
       "<snowflake.connector.cursor.SnowflakeCursor at 0x7f679b346350>"
      ]
     },
     "execution_count": 26,
     "metadata": {},
     "output_type": "execute_result"
    }
   ],
   "source": [
    "#create view supplier_zip_code_weather\n",
    "sql75 = '''\n",
    "CREATE VIEW supplier_zip_code_weather AS\n",
    "SELECT sds.geoid AS zip_code, tem.date, tem.temperature, tem.unit FROM shortest_distance_station sds \n",
    "JOIN temp_overview tem ON sds.noaa_weather_station_id = tem.noaa_weather_station_id\n",
    "ORDER BY date\n",
    "'''\n",
    "cs.execute(sql75)"
   ]
  },
  {
   "cell_type": "code",
   "execution_count": 28,
   "metadata": {},
   "outputs": [
    {
     "data": {
      "text/plain": [
       "<snowflake.connector.cursor.SnowflakeCursor at 0x7f679b346350>"
      ]
     },
     "execution_count": 28,
     "metadata": {},
     "output_type": "execute_result"
    }
   ],
   "source": [
    "#Q8\n",
    "sql81 = '''\n",
    "SELECT supplierid, suppliername\n",
    "FROM supplier s\n",
    "JOIN \n",
    "(SELECT zip_code\n",
    "FROM supplier_zip_code_weather szw\n",
    "JOIN purchase_orders_and_invoices poi\n",
    "ON szw.date = poi.transactiondate) a\n",
    "ON s.postalpostalcode = a.zip_code\n",
    "'''\n",
    "cs.execute(sql81)"
   ]
  }
 ],
 "metadata": {
  "kernelspec": {
   "display_name": "base",
   "language": "python",
   "name": "python3"
  },
  "language_info": {
   "codemirror_mode": {
    "name": "ipython",
    "version": 3
   },
   "file_extension": ".py",
   "mimetype": "text/x-python",
   "name": "python",
   "nbconvert_exporter": "python",
   "pygments_lexer": "ipython3",
   "version": "3.11.9"
  }
 },
 "nbformat": 4,
 "nbformat_minor": 2
}
